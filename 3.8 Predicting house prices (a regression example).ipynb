{
 "cells": [
  {
   "cell_type": "markdown",
   "metadata": {
    "deletable": true,
    "editable": true
   },
   "source": [
    "# 3.8.1 The Boston Housing Price dataset"
   ]
  },
  {
   "cell_type": "code",
   "execution_count": 2,
   "metadata": {
    "collapsed": false,
    "deletable": true,
    "editable": true
   },
   "outputs": [
    {
     "name": "stderr",
     "output_type": "stream",
     "text": [
      "Using TensorFlow backend.\n"
     ]
    },
    {
     "name": "stdout",
     "output_type": "stream",
     "text": [
      "Downloading data from https://s3.amazonaws.com/keras-datasets/boston_housing.npz\n"
     ]
    }
   ],
   "source": [
    "from keras.datasets import boston_housing\n",
    "\n",
    "(train_data, train_targets), (test_data, test_targets) = boston_housing.load_data()"
   ]
  },
  {
   "cell_type": "code",
   "execution_count": 3,
   "metadata": {
    "collapsed": false,
    "deletable": true,
    "editable": true
   },
   "outputs": [
    {
     "name": "stdout",
     "output_type": "stream",
     "text": [
      "(404, 13)\n",
      "(102, 13)\n"
     ]
    }
   ],
   "source": [
    "print train_data.shape\n",
    "print test_data.shape"
   ]
  },
  {
   "cell_type": "code",
   "execution_count": 7,
   "metadata": {
    "collapsed": false,
    "deletable": true,
    "editable": true
   },
   "outputs": [
    {
     "name": "stdout",
     "output_type": "stream",
     "text": [
      "(404,)\n"
     ]
    }
   ],
   "source": [
    "print train_targets.shape"
   ]
  },
  {
   "cell_type": "code",
   "execution_count": 8,
   "metadata": {
    "collapsed": false,
    "deletable": true,
    "editable": true
   },
   "outputs": [
    {
     "name": "stdout",
     "output_type": "stream",
     "text": [
      "[ 18.72   3.11   3.26   8.01  14.65  11.74  23.6   26.42  16.65  34.41\n",
      "  20.31  34.37  14.69  14.19  27.26  20.62   2.96   4.97   7.43   9.42\n",
      "  14.52   4.32   4.45   4.98  10.56  21.24  12.43   4.03  14.81  15.1    7.6\n",
      "  17.27  16.23   6.58   1.98   6.12  16.51  18.35   7.7   11.97  18.06\n",
      "   7.44   5.68  15.02  16.35  16.3   15.03  11.98   6.9   17.11   9.29\n",
      "  18.05   4.73   9.51  12.03  14.37  17.64  21.52   2.98   5.33  14.27\n",
      "   7.73  18.03  18.66  18.13  16.22  17.31  22.11  29.97  23.98  10.21\n",
      "  23.27   2.87  18.33  20.34  29.93  24.39  18.34  14.44  26.82   6.27\n",
      "   3.16  11.69   8.23  11.12   6.75  19.37   3.81  29.53  23.29   7.74\n",
      "   2.88  10.4    7.56   4.21  11.22   4.56  12.86   5.03   5.21   3.01\n",
      "   2.47  12.73   4.84  10.11   5.9   24.1    9.55  17.16  17.27  15.55\n",
      "   3.7   10.16  21.14   5.77   5.33  15.7   17.1   15.76   5.57   6.29\n",
      "  11.28  26.45   3.11  17.21  27.71  12.34   5.1   14.79   5.98  14.15\n",
      "  13.61   5.25   6.68  17.6   17.58  21.08   5.12   9.22  22.98  30.81\n",
      "  12.27  15.17  12.26   5.64   9.52   9.5   16.29  21.22   5.08  16.94\n",
      "   5.89  11.34   7.88  10.87  13.28  27.38   6.36  13.33  16.03  10.15\n",
      "   5.5   12.8    6.58   6.36  12.13   8.51   5.19   5.29  18.07   7.39\n",
      "   9.04  11.45   8.05  15.71  14.59  22.74   5.81  27.8    6.73  16.59\n",
      "  13.65   6.36   4.69   9.1   30.63  10.3   11.72  10.36  10.5   17.28\n",
      "   5.91   9.64   6.47  13.    21.02   7.85  23.69   8.43   9.68   7.22\n",
      "  29.29   7.37  10.45  13.83  18.68  17.44  12.79  15.37  12.01  13.98\n",
      "  18.71   5.49  11.1   24.56   7.19   8.77  16.47   7.39   9.28  16.74\n",
      "  20.85   9.88   8.47   7.79   2.94   3.33  13.22   6.43   7.12   4.86\n",
      "  17.19  13.51   3.95   8.16   4.54  16.14  19.01  12.67  13.44  12.12\n",
      "  28.28  10.88  10.45  21.46   9.8    6.05  18.76  30.59  18.13  22.6\n",
      "  11.32  21.78  23.24  20.08  15.12  12.4    6.92  26.4    3.56   3.76\n",
      "  28.32  10.11   4.74   8.2   15.39  14.43   6.62  12.93   6.21  15.02\n",
      "   6.72   7.53  10.58   8.94   7.2   11.25   6.56  13.09   4.82  14.67\n",
      "  23.09  19.77   7.18  34.02  34.77  30.81  15.17  19.52   7.9    9.53\n",
      "  12.03  14.09   9.08  14.81  10.59   8.1   19.92   6.07  23.79  14.    25.41\n",
      "  14.8    9.45  17.79  10.26   4.08  10.42  13.45   3.95   3.59  10.24\n",
      "   5.52  25.79   4.14  14.33  17.09   4.63   2.97  13.99  12.33   8.88\n",
      "  12.67  10.19  13.44   4.59   8.26   9.43  18.14   8.65   9.62  13.34\n",
      "   3.76   6.86  14.64  24.16   9.59   6.93  22.88  14.1   13.15  21.32\n",
      "   8.05   7.6    3.32   1.73   9.5   23.34   3.13   3.16  11.64  10.27\n",
      "   4.67   4.7    3.73   9.97   8.58   7.34  17.73  13.    12.6    3.57\n",
      "   9.97   6.19  14.13  18.06   5.49   6.48  12.43  17.15  20.45  12.64\n",
      "   9.54  29.55   9.69   5.04   8.81  16.42   5.28   4.56   5.98  16.9\n",
      "  16.96   8.61  10.53  10.13  16.44   7.67   5.7   21.32  26.64  14.66\n",
      "   6.15  14.7   17.6   36.98  23.98  10.97  37.97  16.2    6.59   7.83\n",
      "  15.79   4.38]\n"
     ]
    }
   ],
   "source": [
    "print train_targets"
   ]
  },
  {
   "cell_type": "markdown",
   "metadata": {
    "deletable": true,
    "editable": true
   },
   "source": [
    "## 3.8.2 Preparing the data"
   ]
  },
  {
   "cell_type": "code",
   "execution_count": 10,
   "metadata": {
    "collapsed": true,
    "deletable": true,
    "editable": true
   },
   "outputs": [],
   "source": [
    "# Normalizing the data\n",
    "mean = train_data.mean(axis=0)\n",
    "\n",
    "train_data -= mean\n",
    "\n",
    "std = train_data.std(axis=0)\n",
    "\n",
    "train_data /= std\n",
    "test_data -= mean\n",
    "test_data /= std"
   ]
  },
  {
   "cell_type": "markdown",
   "metadata": {
    "deletable": true,
    "editable": true
   },
   "source": [
    "## 3.8.3 Building our network"
   ]
  },
  {
   "cell_type": "code",
   "execution_count": 12,
   "metadata": {
    "collapsed": true,
    "deletable": true,
    "editable": true
   },
   "outputs": [],
   "source": [
    "def build_model():\n",
    "    model = models.Sequential()\n",
    "    model.add(layers.Dense(64, activation='relu', input_shape=(train_data.shape[1],)))\n",
    "    model.add(layers.Dense(1))\n",
    "    model.compile(optimizer='rmsprop', loss='mse', metrics=['mae'])\n",
    "    return model"
   ]
  },
  {
   "cell_type": "code",
   "execution_count": null,
   "metadata": {
    "collapsed": true
   },
   "outputs": [],
   "source": []
  }
 ],
 "metadata": {
  "kernelspec": {
   "display_name": "Python 2",
   "language": "python",
   "name": "python2"
  },
  "language_info": {
   "codemirror_mode": {
    "name": "ipython",
    "version": 2
   },
   "file_extension": ".py",
   "mimetype": "text/x-python",
   "name": "python",
   "nbconvert_exporter": "python",
   "pygments_lexer": "ipython2",
   "version": "2.7.12"
  }
 },
 "nbformat": 4,
 "nbformat_minor": 2
}
